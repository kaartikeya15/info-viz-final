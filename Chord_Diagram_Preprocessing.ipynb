{
  "nbformat": 4,
  "nbformat_minor": 0,
  "metadata": {
    "colab": {
      "provenance": []
    },
    "kernelspec": {
      "name": "python3",
      "display_name": "Python 3"
    },
    "language_info": {
      "name": "python"
    }
  },
  "cells": [
    {
      "cell_type": "markdown",
      "source": [
        "Data Pre-Processing after Web Scraping for Chord Diagram"
      ],
      "metadata": {
        "id": "oS8xy7rigUWG"
      }
    },
    {
      "cell_type": "code",
      "source": [
        "import pandas as pd\n",
        "import json\n",
        "from google.colab import files"
      ],
      "metadata": {
        "id": "lg2B64thgTbk"
      },
      "execution_count": null,
      "outputs": []
    },
    {
      "cell_type": "code",
      "source": [
        "# Load the dataset\n",
        "data = pd.read_csv('/content/professor_papers_data.csv')"
      ],
      "metadata": {
        "id": "eTQUpUooga94"
      },
      "execution_count": null,
      "outputs": []
    },
    {
      "cell_type": "code",
      "source": [
        "# Fill missing research interests and Professor Links with empty strings\n",
        "data['Research Interests'] = data['Research Interests'].fillna('')\n",
        "data['Professor Link'] = data['Professor Link'].fillna('')\n",
        "\n",
        "# Capitalize the first letter of each word in 'Professor Name' and 'Research Interests'\n",
        "data['Professor Name'] = data['Professor Name'].str.title()\n",
        "data['Research Interests'] = data['Research Interests'].str.title()\n",
        "\n",
        "# Prepare the nodes data\n",
        "professors = sorted(data['Professor Name'].unique())\n",
        "interests = sorted(set(', '.join(data['Research Interests']).split(', ')))  # Extract unique research interests"
      ],
      "metadata": {
        "id": "DT1bk6iqgc12"
      },
      "execution_count": null,
      "outputs": []
    },
    {
      "cell_type": "code",
      "source": [
        "# Create nodes with 'faculty' type\n",
        "faculty_nodes = [\n",
        "    {\n",
        "        'id': prof,\n",
        "        'type': 'faculty',\n",
        "        'googleScholarUrl': data[data['Professor Name'] == prof]['Professor Link'].iloc[0].strip()\n",
        "    }\n",
        "    for prof in professors\n",
        "]\n",
        "\n",
        "# Create nodes with 'interest' type\n",
        "interest_nodes = [{'id': interest.strip(), 'type': 'interest'} for interest in interests if interest.strip()]\n",
        "\n",
        "# Combine nodes\n",
        "nodes = faculty_nodes + interest_nodes\n",
        "\n",
        "# Create a mapping of professors to their interests\n",
        "professor_interest_map = data.groupby('Professor Name')['Research Interests'].apply(\n",
        "    lambda x: sorted(set(', '.join(x).split(', ')))\n",
        ")\n"
      ],
      "metadata": {
        "id": "ZHLatJiqglz0"
      },
      "execution_count": null,
      "outputs": []
    },
    {
      "cell_type": "code",
      "source": [
        "# Prepare the links data\n",
        "links = []\n",
        "for professor, interests_list in professor_interest_map.items():\n",
        "    for interest in interests_list:\n",
        "        if interest.strip():  # Avoid empty strings\n",
        "            links.append({\n",
        "                'source': professor.strip(),\n",
        "                'target': interest.strip(),\n",
        "                'weight': 1  # Default weight\n",
        "            })"
      ],
      "metadata": {
        "id": "lw9vl8Z6goR7"
      },
      "execution_count": null,
      "outputs": []
    },
    {
      "cell_type": "code",
      "source": [
        "# Sort links by source and then by target\n",
        "links = sorted(links, key=lambda x: (x['source'], x['target']))"
      ],
      "metadata": {
        "id": "EA6dciYUat3G"
      },
      "execution_count": null,
      "outputs": []
    },
    {
      "cell_type": "code",
      "source": [
        "# Write nodes to a JSON file\n",
        "nodes_path = 'nodes_updated.json'\n",
        "with open(nodes_path, 'w') as f:\n",
        "    json.dump(nodes, f, indent=4)\n",
        "\n",
        "# Write links to a JSON file\n",
        "links_path = 'links_updated.json'\n",
        "with open(links_path, 'w') as f:\n",
        "    json.dump(links, f, indent=4)"
      ],
      "metadata": {
        "id": "9LE0jBS-gzVE"
      },
      "execution_count": null,
      "outputs": []
    },
    {
      "cell_type": "code",
      "source": [
        "\n",
        "# Download files locally\n",
        "files.download(nodes_path)\n",
        "files.download(links_path)"
      ],
      "metadata": {
        "colab": {
          "base_uri": "https://localhost:8080/",
          "height": 17
        },
        "id": "EJ3u-3-zg1WA",
        "outputId": "0ac89a2e-4c6a-4ea5-9d17-1610343eb62f"
      },
      "execution_count": null,
      "outputs": [
        {
          "output_type": "display_data",
          "data": {
            "text/plain": [
              "<IPython.core.display.Javascript object>"
            ],
            "application/javascript": [
              "\n",
              "    async function download(id, filename, size) {\n",
              "      if (!google.colab.kernel.accessAllowed) {\n",
              "        return;\n",
              "      }\n",
              "      const div = document.createElement('div');\n",
              "      const label = document.createElement('label');\n",
              "      label.textContent = `Downloading \"${filename}\": `;\n",
              "      div.appendChild(label);\n",
              "      const progress = document.createElement('progress');\n",
              "      progress.max = size;\n",
              "      div.appendChild(progress);\n",
              "      document.body.appendChild(div);\n",
              "\n",
              "      const buffers = [];\n",
              "      let downloaded = 0;\n",
              "\n",
              "      const channel = await google.colab.kernel.comms.open(id);\n",
              "      // Send a message to notify the kernel that we're ready.\n",
              "      channel.send({})\n",
              "\n",
              "      for await (const message of channel.messages) {\n",
              "        // Send a message to notify the kernel that we're ready.\n",
              "        channel.send({})\n",
              "        if (message.buffers) {\n",
              "          for (const buffer of message.buffers) {\n",
              "            buffers.push(buffer);\n",
              "            downloaded += buffer.byteLength;\n",
              "            progress.value = downloaded;\n",
              "          }\n",
              "        }\n",
              "      }\n",
              "      const blob = new Blob(buffers, {type: 'application/binary'});\n",
              "      const a = document.createElement('a');\n",
              "      a.href = window.URL.createObjectURL(blob);\n",
              "      a.download = filename;\n",
              "      div.appendChild(a);\n",
              "      a.click();\n",
              "      div.remove();\n",
              "    }\n",
              "  "
            ]
          },
          "metadata": {}
        },
        {
          "output_type": "display_data",
          "data": {
            "text/plain": [
              "<IPython.core.display.Javascript object>"
            ],
            "application/javascript": [
              "download(\"download_a643ea13-c120-4fcb-ad4e-f56f837263db\", \"nodes_updated.json\", 16486)"
            ]
          },
          "metadata": {}
        },
        {
          "output_type": "display_data",
          "data": {
            "text/plain": [
              "<IPython.core.display.Javascript object>"
            ],
            "application/javascript": [
              "\n",
              "    async function download(id, filename, size) {\n",
              "      if (!google.colab.kernel.accessAllowed) {\n",
              "        return;\n",
              "      }\n",
              "      const div = document.createElement('div');\n",
              "      const label = document.createElement('label');\n",
              "      label.textContent = `Downloading \"${filename}\": `;\n",
              "      div.appendChild(label);\n",
              "      const progress = document.createElement('progress');\n",
              "      progress.max = size;\n",
              "      div.appendChild(progress);\n",
              "      document.body.appendChild(div);\n",
              "\n",
              "      const buffers = [];\n",
              "      let downloaded = 0;\n",
              "\n",
              "      const channel = await google.colab.kernel.comms.open(id);\n",
              "      // Send a message to notify the kernel that we're ready.\n",
              "      channel.send({})\n",
              "\n",
              "      for await (const message of channel.messages) {\n",
              "        // Send a message to notify the kernel that we're ready.\n",
              "        channel.send({})\n",
              "        if (message.buffers) {\n",
              "          for (const buffer of message.buffers) {\n",
              "            buffers.push(buffer);\n",
              "            downloaded += buffer.byteLength;\n",
              "            progress.value = downloaded;\n",
              "          }\n",
              "        }\n",
              "      }\n",
              "      const blob = new Blob(buffers, {type: 'application/binary'});\n",
              "      const a = document.createElement('a');\n",
              "      a.href = window.URL.createObjectURL(blob);\n",
              "      a.download = filename;\n",
              "      div.appendChild(a);\n",
              "      a.click();\n",
              "      div.remove();\n",
              "    }\n",
              "  "
            ]
          },
          "metadata": {}
        },
        {
          "output_type": "display_data",
          "data": {
            "text/plain": [
              "<IPython.core.display.Javascript object>"
            ],
            "application/javascript": [
              "download(\"download_a4fc9190-af6b-49fc-9e98-996d2b51227f\", \"links_updated.json\", 17970)"
            ]
          },
          "metadata": {}
        }
      ]
    }
  ]
}